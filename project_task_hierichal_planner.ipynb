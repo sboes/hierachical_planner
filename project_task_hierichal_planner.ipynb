{
 "cells": [
  {
   "cell_type": "code",
   "id": "initial_id",
   "metadata": {
    "collapsed": true,
    "ExecuteTime": {
     "end_time": "2025-07-24T10:28:51.209115Z",
     "start_time": "2025-07-24T10:28:50.391003Z"
    }
   },
   "source": [
    "import numpy as np\n",
    "import matplotlib.pyplot as plt\n",
    "from planners.basic_prm import BasicPRM\n",
    "from utils.planarRobot import PlanarRobot, KinChainCollisionChecker\n",
    "from environment import get_all_scenes"
   ],
   "outputs": [],
   "execution_count": 1
  },
  {
   "metadata": {
    "ExecuteTime": {
     "end_time": "2025-07-24T10:28:57.156411Z",
     "start_time": "2025-07-24T10:28:57.151886Z"
    }
   },
   "cell_type": "code",
   "source": [
    "# Konfiguration\n",
    "DOF = 4\n",
    "link_lengths = [1.2] * DOF\n",
    "robot = PlanarRobot(n_joints=DOF, link_lengths=link_lengths)\n",
    "\n",
    "# Beispielszene laden\n",
    "test_scenes = get_all_scenes()\n",
    "scene_name, (scene, limits, (start_pos, goal_pos)) = test_scenes[0]  # erste Szene\n"
   ],
   "id": "a3dbc8f97ad46981",
   "outputs": [],
   "execution_count": 2
  },
  {
   "metadata": {
    "ExecuteTime": {
     "end_time": "2025-07-24T10:29:03.711193Z",
     "start_time": "2025-07-24T10:29:03.707007Z"
    }
   },
   "cell_type": "code",
   "source": [
    "# Kollisionstestobjekt erzeugen\n",
    "collision_checker = KinChainCollisionChecker(robot, scene, fk_resolution=0.1)\n",
    "\n",
    "# Planner instanziieren\n",
    "planner = BasicPRM(collision_checker, limits=[[-np.pi]*DOF, [np.pi]*DOF])\n",
    "\n",
    "start = [np.linspace(0.0, 0.1, DOF).tolist()]  # nahe der Nullstellung\n",
    "goal = [np.linspace(np.pi/2, np.pi/2.5, DOF).tolist()]\n",
    "config = {\"numNodes\": 800, \"radius\": 5}"
   ],
   "id": "2fecfa502e143576",
   "outputs": [],
   "execution_count": 3
  },
  {
   "metadata": {
    "ExecuteTime": {
     "end_time": "2025-07-24T10:29:28.446738Z",
     "start_time": "2025-07-24T10:29:12.864551Z"
    }
   },
   "cell_type": "code",
   "source": [
    "# Planung\n",
    "path = planner.plan_path(start, goal, config)\n",
    "print(\"Pfad gefunden!\" if path else \"Kein Pfad gefunden.\")\n",
    "\n",
    "# Visualisierung der Bewegung\n",
    "from matplotlib.animation import FuncAnimation\n",
    "\n",
    "def animate_path(robot, path_configs):\n",
    "    fig, ax = plt.subplots(figsize=(6, 6))\n",
    "    ax.set_xlim(-sum(robot.link_lengths), sum(robot.link_lengths))\n",
    "    ax.set_ylim(-sum(robot.link_lengths), sum(robot.link_lengths))\n",
    "    line, = ax.plot([], [], 'o-', lw=3, color='blue')\n",
    "\n",
    "    def update(i):\n",
    "        pos = robot.forward_kinematics(path_configs[i])\n",
    "        xs, ys = zip(*pos)\n",
    "        line.set_data(xs, ys)\n",
    "        return line,\n",
    "\n",
    "    ani = FuncAnimation(fig, update, frames=len(path_configs), interval=100, blit=True)\n",
    "    plt.title(\"Planar Robot Bewegung\")\n",
    "    plt.grid(True)\n",
    "    plt.show()"
   ],
   "id": "d30e3feecde00dff",
   "outputs": [
    {
     "name": "stdout",
     "output_type": "stream",
     "text": [
      "Pfad gefunden!\n"
     ]
    }
   ],
   "execution_count": 4
  },
  {
   "metadata": {
    "ExecuteTime": {
     "end_time": "2025-07-24T10:29:37.942840Z",
     "start_time": "2025-07-24T10:29:37.850056Z"
    }
   },
   "cell_type": "code",
   "source": [
    "if path:\n",
    "    configs = planner.get_path_coordinates(path)\n",
    "    animate_path(robot, configs)"
   ],
   "id": "9e527d8a594fc609",
   "outputs": [
    {
     "data": {
      "text/plain": [
       "<Figure size 600x600 with 1 Axes>"
      ],
      "image/png": "[encoded data removed]"
     },
     "metadata": {},
     "output_type": "display_data"
    }
   ],
   "execution_count": 5
  },
  {
   "metadata": {
    "ExecuteTime": {
     "end_time": "2025-07-24T10:34:03.358554Z",
     "start_time": "2025-07-24T10:34:03.355717Z"
    }
   },
   "cell_type": "code",
   "source": [
    "import numpy as np\n",
    "import matplotlib.pyplot as plt\n",
    "from planners.basic_prm import BasicPRM\n",
    "from utils.planarRobot import PlanarRobot, KinChainCollisionChecker\n",
    "from environment import get_all_scenes\n",
    "from matplotlib.animation import FuncAnimation\n"
   ],
   "id": "42e29b2004fcf424",
   "outputs": [],
   "execution_count": 6
  },
  {
   "metadata": {
    "ExecuteTime": {
     "end_time": "2025-07-24T10:34:11.192642Z",
     "start_time": "2025-07-24T10:34:11.186725Z"
    }
   },
   "cell_type": "code",
   "source": [
    "# --- Konfiguration für 2 DOF Beispiel ---\n",
    "DOF = 2\n",
    "link_lengths = [1.5] * DOF\n",
    "robot = PlanarRobot(n_joints=DOF, link_lengths=link_lengths)\n",
    "\n",
    "# Beispielszene laden\n",
    "scenes = get_all_scenes()\n",
    "scene_name, (scene, limits, (start_pos, goal_pos)) = scenes[0]  # erste Szene\n",
    "\n",
    "# Kollisionstestobjekt erzeugen\n",
    "collision_checker = KinChainCollisionChecker(robot, scene, fk_resolution=0.05)"
   ],
   "id": "afcefa1db90ff458",
   "outputs": [],
   "execution_count": 7
  },
  {
   "metadata": {
    "ExecuteTime": {
     "end_time": "2025-07-24T10:38:23.608051Z",
     "start_time": "2025-07-24T10:38:22.518460Z"
    }
   },
   "cell_type": "code",
   "source": [
    "# PRM-Planer instanziieren\n",
    "planner = BasicPRM(collision_checker, limits=[[-np.pi]*DOF, [np.pi]*DOF])\n",
    "\n",
    "# Start- und Zielkonfigurationen (in Joint-Space)\n",
    "start = [[0.0, 0.1]]\n",
    "goal = [[np.pi/2, np.pi/2.5]]\n",
    "\n",
    "config = {\"numNodes\": 400, \"radius\": 1.5}\n",
    "\n",
    "# Planung durchführen\n",
    "path = planner.plan_path(start, goal, config)\n",
    "print(\"Pfad gefunden!\" if path else \"Kein Pfad gefunden.\")\n",
    "print(f\"Anzahl der Knoten im PRM: {planner.graph.number_of_nodes()}\")\n",
    "print(f\"Gefundene Pfadlänge: {len(path)}\" if path else \"Kein Pfad gefunden.\")\n",
    "print(f\"Knoten der Lösung: {path}\" if path else \"Keine Knoten in der Lösung.\")\n"
   ],
   "id": "3bd40be8baa1bc9a",
   "outputs": [
    {
     "name": "stdout",
     "output_type": "stream",
     "text": [
      "Pfad gefunden!\n",
      "Anzahl der Knoten im PRM: 402\n",
      "Gefundene Pfadlänge: 12\n",
      "Knoten der Lösung: ['start', 3, 11, 14, 10, 23, 40, 5, 6, 39, 20, 'goal']\n"
     ]
    }
   ],
   "execution_count": 15
  },
  {
   "metadata": {
    "ExecuteTime": {
     "end_time": "2025-07-24T10:38:33.223723Z",
     "start_time": "2025-07-24T10:38:33.218791Z"
    }
   },
   "cell_type": "code",
   "source": [
    "# Visualisierung\n",
    "\n",
    "def animate_path(robot, path_configs):\n",
    "    fig, (ax1, ax2) = plt.subplots(1, 2, figsize=(12, 6))\n",
    "\n",
    "    # Roboterarbeitsraum vorbereiten\n",
    "    ax1.set_xlim(-sum(robot.link_lengths), sum(robot.link_lengths))\n",
    "    ax1.set_ylim(-sum(robot.link_lengths), sum(robot.link_lengths))\n",
    "    ax1.set_aspect(\"equal\")\n",
    "    ax1.grid(True)\n",
    "    ax1.set_title(f\"Planar Roboter Bewegung ({DOF} DOF)\")\n",
    "\n",
    "    # Hindernisse darstellen\n",
    "    for obs in scene.values():\n",
    "        if hasattr(obs, \"exterior\"):\n",
    "            xs, ys = obs.exterior.xy\n",
    "            ax1.fill(xs, ys, color='red', alpha=0.4)\n",
    "\n",
    "    line1, = ax1.plot([], [], 'o-', lw=3, color='green')\n",
    "\n",
    "    # Konfigurationsraum vorbereiten\n",
    "    ax2.set_xlim(-np.pi, np.pi)\n",
    "    ax2.set_ylim(-np.pi, np.pi)\n",
    "    ax2.set_aspect(\"auto\")\n",
    "    ax2.grid(True)\n",
    "    ax2.set_title(\"Konfigurationsraum\")\n",
    "    line2, = ax2.plot([], [], 'o-', color='blue')\n",
    "\n",
    "    def update(i):\n",
    "        pos = robot.forward_kinematics(path_configs[i])\n",
    "        xs, ys = zip(*pos)\n",
    "        line1.set_data(xs, ys)\n",
    "\n",
    "        # Zeige aktuelle Konfiguration (Joint-Achsen) im C-Space\n",
    "        q = path_configs[i]\n",
    "        line2.set_data([q[0]], [q[1]])\n",
    "        return line1, line2\n",
    "\n",
    "    ani = FuncAnimation(fig, update, frames=len(path_configs), interval=100, blit=True)\n",
    "    plt.tight_layout()\n",
    "    plt.show()"
   ],
   "id": "d5e5c0209751e038",
   "outputs": [],
   "execution_count": 16
  },
  {
   "metadata": {
    "ExecuteTime": {
     "end_time": "2025-07-24T10:38:34.552949Z",
     "start_time": "2025-07-24T10:38:34.348454Z"
    }
   },
   "cell_type": "code",
   "source": [
    "if path:\n",
    "    configs = planner.get_path_coordinates(path)\n",
    "    animate_path(robot, configs)\n"
   ],
   "id": "c5317f52c05ad2d5",
   "outputs": [
    {
     "data": {
      "text/plain": [
       "<Figure size 1200x600 with 2 Axes>"
      ],
      "image/png": "[encoded data removed]"
     },
     "metadata": {},
     "output_type": "display_data"
    }
   ],
   "execution_count": 17
  },
  {
   "metadata": {},
   "cell_type": "code",
   "outputs": [],
   "execution_count": null,
   "source": "",
   "id": "34f8a64a06046f5a"
  }
 ],
 "metadata": {
  "kernelspec": {
   "display_name": "Python 3",
   "language": "python",
   "name": "python3"
  },
  "language_info": {
   "codemirror_mode": {
    "name": "ipython",
    "version": 2
   },
   "file_extension": ".py",
   "mimetype": "text/x-python",
   "name": "python",
   "nbconvert_exporter": "python",
   "pygments_lexer": "ipython2",
   "version": "2.7.6"
  }
 },
 "nbformat": 4,
 "nbformat_minor": 5
}
