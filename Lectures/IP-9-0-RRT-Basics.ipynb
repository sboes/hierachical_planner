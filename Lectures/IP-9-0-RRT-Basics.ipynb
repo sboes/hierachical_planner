{
 "cells": [
  {
   "cell_type": "markdown",
   "metadata": {},
   "source": [
    "Rapidly Growing Random Trees (RRT)\n",
    "==================================\n",
    "\n",
    "**Topic**: Introduction to RRT planners\n",
    "\n",
    "Version | Author\n",
    "------------ | -------------\n",
    "0.2 | Björn Hein\n",
    "\n",
    "\n",
    "This worksheet **explains the basic concepts of path planning using a RRT planner**. \n",
    "\n",
    "License is based on Creative Commons: Attribution-NonCommercial 4.0 International (CC BY-NC 4.0) (pls. check: http://creativecommons.org/licenses/by-nc/4.0/)\n",
    "\n",
    "\n",
    "Important links are:\n",
    "\n",
    "    General Info: http://www.python.org\n",
    "    Python tutorial http://www.python.org/doc/tut/\n",
    "    NetworkX http://networkx.github.io/\n",
    "    NumPy and SciPy Guide http://docs.scipy.org/\n",
    "    Matplotlib gallery http://matplotlib.sourceforge.net/gallery.html\n",
    "\n",
    "Remember that:\n",
    "\n",
    "    you have to press ctrl-return or shift-return, to execute the code in the code sections, only then the variables are \"generated\" and can be used\n",
    "    you can execute the whole notebook by Cell->runAll\n",
    "\n",
    "\n",
    "\n"
   ]
  },
  {
   "cell_type": "markdown",
   "metadata": {},
   "source": [
    "Algorithm I\n",
    "--------------\n",
    "\n",
    "Following an example implementation of a RRT. Parameters are *numberOfGeneratedNodes*, which limits the number of generated nodes to the given amount and *testGoalAfterNumberOfNodes* which indicates after which number of nodes the goal position should be tested for connection."
   ]
  },
  {
   "cell_type": "code",
   "execution_count": null,
   "metadata": {},
   "outputs": [],
   "source": [
    "from IPRRT import RRTSimple\n",
    "from IPVISRRT import rrtPRMVisualize\n",
    "import matplotlib.pylab as plt"
   ]
  },
  {
   "cell_type": "code",
   "execution_count": null,
   "metadata": {},
   "outputs": [],
   "source": [
    "import IPTestSuite as ts"
   ]
  },
  {
   "cell_type": "code",
   "execution_count": null,
   "metadata": {},
   "outputs": [],
   "source": [
    "rrtSimpleConfig = dict()\n",
    "rrtSimpleConfig[\"numberOfGeneratedNodes\"] = 100 \n",
    "rrtSimpleConfig[\"testGoalAfterNumberOfNodes\"]  = 10\n",
    "\n",
    "for benchmark in ts.benchList:\n",
    "    try:\n",
    "        fig_local = plt.figure(figsize=(10,10))\n",
    "        ax = fig_local.add_subplot(1,1,1)\n",
    "        rrtSimple = RRTSimple(benchmark.collisionChecker)\n",
    "        solution = rrtSimple.planPath(benchmark.startList, benchmark.goalList, rrtSimpleConfig)\n",
    "        title = benchmark.name\n",
    "        if solution == []:\n",
    "            title += \" (No path found!)\"\n",
    "        title += \"\\n Assumed complexity level \" + str(benchmark.level)\n",
    "        ax.set_title(title)\n",
    "        rrtPRMVisualize(rrtSimple, solution, ax=ax, nodeSize=50)\n",
    "    except Exception as e:\n",
    "        print(\"ERROR: \",benchmark.name, e)"
   ]
  },
  {
   "cell_type": "markdown",
   "metadata": {},
   "source": [
    "Second Approach\n",
    "===============\n",
    "\n",
    "Following example shows an example, how to modify the RRT. In this example the new connection is only generated in the direction of the newly generated node. Other strategies - as discussed in the lecture - are to incorporate control laws modifiying the direction of the newly generated graph connections."
   ]
  },
  {
   "cell_type": "code",
   "execution_count": null,
   "metadata": {},
   "outputs": [],
   "source": [
    "from IPRRT import RRT"
   ]
  },
  {
   "cell_type": "code",
   "execution_count": null,
   "metadata": {},
   "outputs": [],
   "source": [
    "rrtConfig = dict()\n",
    "rrtConfig[\"numberOfGeneratedNodes\"] = 100 \n",
    "rrtConfig[\"testGoalAfterNumberOfNodes\"]  = 10\n",
    "\n",
    "for benchmark in ts.benchList:\n",
    "    try:\n",
    "        fig_local = plt.figure(figsize=(10,10))\n",
    "        ax = fig_local.add_subplot(1,1,1)\n",
    "        rrt = RRT(benchmark.collisionChecker)\n",
    "        solution = rrt.planPath(benchmark.startList, benchmark.goalList, rrtConfig)\n",
    "\n",
    "        title = benchmark.name\n",
    "        if solution == []:\n",
    "            title += \" (No path found!)\"\n",
    "        title += \"\\n Assumed complexity level \" + str(benchmark.level)\n",
    "        \n",
    "        ax.set_title(title)\n",
    "        rrtPRMVisualize(rrt, solution, ax=ax, nodeSize=50)\n",
    "    except Exception as e:\n",
    "        print(\"ERROR: \",benchmark.name, e)"
   ]
  },
  {
   "cell_type": "code",
   "execution_count": null,
   "metadata": {},
   "outputs": [],
   "source": []
  }
 ],
 "metadata": {
  "kernelspec": {
   "display_name": "Python 3 (ipykernel)",
   "language": "python",
   "name": "python3"
  },
  "language_info": {
   "codemirror_mode": {
    "name": "ipython",
    "version": 3
   },
   "file_extension": ".py",
   "mimetype": "text/x-python",
   "name": "python",
   "nbconvert_exporter": "python",
   "pygments_lexer": "ipython3",
   "version": "3.13.2"
  }
 },
 "nbformat": 4,
 "nbformat_minor": 4
}
