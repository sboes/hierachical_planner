{
 "cells": [
  {
   "cell_type": "markdown",
   "metadata": {
    "tags": []
   },
   "source": [
    "Introduction\n",
    "============\n",
    "\n",
    "This is interactive work-sheet regarding \"Introduction to path planning\" (Author: Björn Hein).\n",
    "\n",
    "Version | Author\n",
    "------------ | -------------\n",
    "0.2 | Björn Hein\n",
    "\n",
    "\n",
    "License is based on Creative Commons: Attribution-NonCommercial 4.0 International (CC BY-NC 4.0) (pls. check: http://creativecommons.org/licenses/by-nc/4.0/)\n",
    "\n",
    "This work-sheet conatains a second draft version to implement the A\\* algorithm for path planning applications in Python. \n",
    "\n",
    "Important links are:\n",
    "\n",
    "* General Info: http://www.python.org\n",
    "* Python tutorial http://www.python.org/doc/tut/\n",
    "* NetworkX http://networkx.github.io/\n",
    "* NumPy and SciPy Guide http://docs.scipy.org/\n",
    "* Matplotlib gallery http://matplotlib.sourceforge.net/gallery.html\n",
    "\n",
    "\n",
    "Remember that:\n",
    "\n",
    "* you have to press ctrl-return or shift-return, to execute the code in the code sections, only then the variables are \"generated\" and can be used\n",
    "* you can execute the whole notebook by Cell->runAll"
   ]
  },
  {
   "cell_type": "markdown",
   "metadata": {},
   "source": [
    "Calculating hash value for nodes needed for the close-list\n",
    "====================================\n",
    "\n",
    "As the close-list of the $A^*$ is typically implemented via a *hash-map* and therefore an appropriate hash-function has to be provided to identify the nodes. A suitable way are a key based on the coordinates of the nodes, as there are unique."
   ]
  },
  {
   "cell_type": "code",
   "execution_count": null,
   "metadata": {},
   "outputs": [],
   "source": [
    "def getNodeID(pos):\n",
    "    \"\"\"Compute a unique identifier based on the position\"\"\"\n",
    "    nodeId = \"-\"\n",
    "    for i in pos:\n",
    "        nodeId += str(i)+\"-\"\n",
    "    return nodeId"
   ]
  },
  {
   "cell_type": "code",
   "execution_count": null,
   "metadata": {},
   "outputs": [],
   "source": [
    "getNodeID([20,20])"
   ]
  },
  {
   "cell_type": "code",
   "execution_count": null,
   "metadata": {
    "collapsed": false,
    "jupyter": {
     "outputs_hidden": false
    },
    "scrolled": true
   },
   "outputs": [],
   "source": [
    "a = dict()\n",
    "a[getNodeID([20,20])] = 99\n",
    "a[getNodeID([31,30])] = 101\n",
    "\n",
    "print(a[getNodeID([31,30])], getNodeID([31,30]))\n",
    "print(a[getNodeID([20,20])])\n"
   ]
  },
  {
   "cell_type": "markdown",
   "metadata": {},
   "source": [
    "A*\n",
    "==\n",
    "\n",
    "In the following there is an example for programming an A*-like path planning algorithm with some modifications. Please check Slides \"AStar-Basics.pdf\".\n",
    "\n",
    "*Remark: handleNode and expandNode are in this example merged to one function*"
   ]
  },
  {
   "cell_type": "code",
   "execution_count": null,
   "metadata": {
    "collapsed": false,
    "jupyter": {
     "outputs_hidden": false
    }
   },
   "outputs": [],
   "source": [
    "from IPAStar import AStar\n",
    "from IPVISAStar import aStarVisualize\n",
    "import matplotlib.pylab as plt"
   ]
  },
  {
   "cell_type": "code",
   "execution_count": null,
   "metadata": {},
   "outputs": [],
   "source": [
    "import IPTestSuite as ts"
   ]
  },
  {
   "cell_type": "code",
   "execution_count": null,
   "metadata": {},
   "outputs": [],
   "source": [
    "astarConfig = dict()\n",
    "astarConfig[\"w\"] = .5\n",
    "astarConfig[\"heuristic\"]  = \"euclidean\"\n",
    "\n",
    "for benchmark in ts.benchList:\n",
    "    try:\n",
    "        fig_local = plt.figure(figsize=(10,10))\n",
    "        ax = fig_local.add_subplot(1,1,1)\n",
    "        astar = AStar(benchmark.collisionChecker)\n",
    "        solution = astar.planPath(benchmark.startList, benchmark.goalList, astarConfig)\n",
    "        title = benchmark.name\n",
    "        if solution == []:\n",
    "            title += \" (No path found!)\"\n",
    "        title += \"\\n Assumed complexity level \" + str(benchmark.level)\n",
    "        ax.set_title(title)\n",
    "        aStarVisualize(astar, solution, ax=ax, nodeSize=50)\n",
    "    except Exception as e:\n",
    "        print(\"ERROR: \",benchmark.name, e)"
   ]
  },
  {
   "cell_type": "markdown",
   "metadata": {},
   "source": [
    "Questions:\n",
    "\n",
    "* What could be useful to be checked in function setStartGoal besides start and goal having the same dimension?\n",
    "* What is missing for a correct implementation of the A*? \n",
    "  * Why does this version not necessarily find the best solution? \n",
    "  * Why is it nevertheless useful to do so?\n",
    "\n"
   ]
  },
  {
   "cell_type": "markdown",
   "metadata": {},
   "source": [
    "### Do the planning"
   ]
  },
  {
   "cell_type": "code",
   "execution_count": null,
   "metadata": {
    "collapsed": false,
    "jupyter": {
     "outputs_hidden": false
    }
   },
   "outputs": [],
   "source": [
    "import matplotlib.pyplot as plt\n",
    "%matplotlib inline\n",
    "\n",
    "from shapely.geometry import Point, Polygon, LineString\n",
    "from IPEnvironment import CollisionChecker\n",
    "\n",
    "# Definition of a testing environment\n",
    "trapField = dict()\n",
    "trapField[\"obs1\"] =   LineString([(6, 18), (6, 8), (16, 8), (16,18)]).buffer(1.0)\n",
    "\n",
    "environment = CollisionChecker(trapField)\n",
    "\n",
    "\n",
    "start = [[10,20]]\n",
    "goal  = [[13,1]]\n",
    "\n",
    "# AStar\n",
    "astar = AStar(environment)\n",
    "\n",
    "# To know what is part on the config please consult the documentation of planPath\n",
    "astarConfig = dict()\n",
    "astarConfig[\"w\"] = .5\n",
    "\n",
    "astarConfig[\"heuristic\"]  = \"euclidean\"\n",
    "\n",
    "\n",
    "solution = astar.planPath(start, goal, astarConfig )\n"
   ]
  },
  {
   "cell_type": "markdown",
   "metadata": {},
   "source": [
    "### Do the visualization"
   ]
  },
  {
   "cell_type": "markdown",
   "metadata": {},
   "source": [
    "* Idea: Show internal data of AStar\n",
    "* show closeList and the evaluated values for these nodes\n",
    "* add these information in a matrix"
   ]
  },
  {
   "cell_type": "code",
   "execution_count": null,
   "metadata": {
    "collapsed": false,
    "jupyter": {
     "outputs_hidden": false
    }
   },
   "outputs": [],
   "source": [
    "fig = plt.figure(figsize=(7,7))\n",
    "ax = fig.add_subplot(1,1,1)\n",
    "aStarVisualize(astar, solution, ax = ax, nodeSize=50)"
   ]
  },
  {
   "cell_type": "markdown",
   "metadata": {
    "tags": []
   },
   "source": [
    "Experiments\n",
    "===========\n",
    "\n",
    "* Change evaluation function to f(n) = w * h + (1-w) * g, and visualize results\n",
    "* Implement another heuristic (e.g. Euklid) and make it switchable via a parameter.\n"
   ]
  },
  {
   "cell_type": "markdown",
   "metadata": {},
   "source": []
  }
 ],
 "metadata": {
  "kernelspec": {
   "display_name": "3.13.2",
   "language": "python",
   "name": "python3"
  },
  "language_info": {
   "codemirror_mode": {
    "name": "ipython",
    "version": 3
   },
   "file_extension": ".py",
   "mimetype": "text/x-python",
   "name": "python",
   "nbconvert_exporter": "python",
   "pygments_lexer": "ipython3",
   "version": "3.13.2"
  }
 },
 "nbformat": 4,
 "nbformat_minor": 4
}
