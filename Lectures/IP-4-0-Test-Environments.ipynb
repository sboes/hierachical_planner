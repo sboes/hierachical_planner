{
 "cells": [
  {
   "cell_type": "markdown",
   "metadata": {
    "slideshow": {
     "slide_type": "slide"
    }
   },
   "source": [
    "Introduction\n",
    "============\n",
    "**Topic**: Setting up a simple 2D - Environment for testing \"collisions\".\n",
    "\n",
    "This is an early version of an interactive work-sheet regarding \"Introduction to path planning\".\n",
    "\n",
    "Version | Author\n",
    "------------ | -------------\n",
    "0.3 | Björn Hein\n",
    "\n",
    "One goal of the notebook series is to discuss and implement algorithms for collision-free path planning. Therefore an concept is needed, to represent and indicate obstacles during search. This notebook will give an hint how to implement such an \"environment\" in a very simple way using an python library called **Shapely**.\n",
    "\n",
    "License is based on Creative Commons: Attribution-NonCommercial 4.0 International (CC BY-NC 4.0) (pls. check: http://creativecommons.org/licenses/by-nc/4.0/)\n",
    "\n",
    "Important links are:\n",
    "\n",
    "* General Info: http://www.python.org\n",
    "* NetworkX http://networkx.github.io/\n",
    "* NumPy and SciPy Guide http://docs.scipy.org/\n",
    "* Matplotlib gallery https://matplotlib.org/stable/\n",
    "\n"
   ]
  },
  {
   "cell_type": "markdown",
   "metadata": {},
   "source": [
    "**Fehler bei shapely/descartes: Mit pip install --force-reinstall -v \"shapely==1.8.5.post1\" lässt sich die zur aktuellen descartes versioni kompatible Shapely-Variante installieren.**"
   ]
  },
  {
   "cell_type": "markdown",
   "metadata": {
    "slideshow": {
     "slide_type": "slide"
    }
   },
   "source": [
    "# Goal\n",
    "\n",
    "* Understanding how to set up a 2D testing Environment\n",
    "* Understanding hot to visualizing the environment\n",
    "* Understanding how to set up a collision checker for the path planning algorithms\n",
    "\n"
   ]
  },
  {
   "cell_type": "markdown",
   "metadata": {},
   "source": [
    "Set up the Environment\n",
    "======================\n",
    "\n",
    "The planning will take place in a certain environment. For testing it is sometimes useful to simplify the environment, e.g. taking a simple 2D approach.\n",
    "\n",
    "**Remember**: Even if the obstacles will be \"visible\", all our investigated algorithms have to assume, that these **obstacles are not visible (not explicitly computable)**, but have to be detected during search (implicit configuration space).\n"
   ]
  },
  {
   "cell_type": "markdown",
   "metadata": {},
   "source": [
    "\n",
    "As proposal the 2D-Python library Shapely seems to be a good choice (https://pypi.python.org/pypi/Shapely).\n",
    "\n",
    "Shapely is a BSD-licensed Python package for manipulation and analysis of planar geometric objects. It is based on the widely deployed GEOS (the engine of PostGIS) and JTS (from which GEOS is ported) libraries.\n",
    "\n",
    "Shapely provides much more functionality than needed. In the context of the lecture it will be used to test different geometric objects for collision.\n",
    "\n"
   ]
  },
  {
   "cell_type": "markdown",
   "metadata": {},
   "source": [
    "Idea\n",
    "-----\n",
    "\n",
    "The idea is to use the functionality provided by shapely and programmatically define the environemnt."
   ]
  },
  {
   "cell_type": "code",
   "execution_count": null,
   "metadata": {
    "tags": []
   },
   "outputs": [],
   "source": [
    "import matplotlib.pyplot as plt\n",
    "#%matplotlib notebook\n",
    "\n",
    "# use following for pdf generation\n",
    "%matplotlib inline\n",
    "\n",
    "from shapely.geometry import Point, Polygon, LineString\n",
    "from shapely import plotting"
   ]
  },
  {
   "cell_type": "markdown",
   "metadata": {},
   "source": [
    "Defining a scene\n",
    "-----------------\n",
    "\n",
    "1. Definition of obstacles via polygons. \n",
    "2. As storage a dict is proposed containing then the \"scene\""
   ]
  },
  {
   "cell_type": "code",
   "execution_count": null,
   "metadata": {
    "tags": []
   },
   "outputs": [],
   "source": [
    "simpleField = dict()\n",
    "simpleField[\"obs1\"] = Polygon([(6, 14), (13, 14), (13, 11), (6,11)]).buffer(2.0)\n",
    "simpleField[\"obs2\"] = Polygon([(16, 5), (19, 5), (19, 3),(16,3)]).buffer(1.0)"
   ]
  },
  {
   "cell_type": "markdown",
   "metadata": {},
   "source": [
    "Based on that scene definition a simple viszalization function can be written:"
   ]
  },
  {
   "cell_type": "code",
   "execution_count": null,
   "metadata": {
    "tags": []
   },
   "outputs": [],
   "source": [
    "def drawScene(content, limits=[[0,23],[0,23]], figsize=(10,10)):\n",
    "    fig = plt.figure(figsize=figsize)\n",
    "    ax = fig.add_subplot(1,1,1)\n",
    "    ax.set_xlim(limits[0])\n",
    "    ax.set_ylim(limits[1])\n",
    "    for key, value in content.items():\n",
    "        plotting.plot_polygon(value, add_points=False)\n",
    "        "
   ]
  },
  {
   "cell_type": "code",
   "execution_count": null,
   "metadata": {
    "collapsed": false,
    "jupyter": {
     "outputs_hidden": false
    }
   },
   "outputs": [],
   "source": [
    "drawScene(simpleField, figsize=(3,3))"
   ]
  },
  {
   "cell_type": "code",
   "execution_count": null,
   "metadata": {
    "tags": []
   },
   "outputs": [],
   "source": [
    "trapField = dict()\n",
    "trapField[\"obs1\"] =   LineString([(6, 18), (6, 8), (16, 8), (16,18)]).buffer(1)"
   ]
  },
  {
   "cell_type": "code",
   "execution_count": null,
   "metadata": {
    "collapsed": false,
    "jupyter": {
     "outputs_hidden": false
    }
   },
   "outputs": [],
   "source": [
    "drawScene(trapField, figsize=(5,5))"
   ]
  },
  {
   "cell_type": "markdown",
   "metadata": {},
   "source": [
    "For a more complicated example see:\n"
   ]
  },
  {
   "cell_type": "code",
   "execution_count": null,
   "metadata": {
    "tags": []
   },
   "outputs": [],
   "source": [
    "special = dict()\n",
    "special[\"base\"] = LineString([(11,0),(11,18)]).buffer(0.5)\n",
    "for i in range(15):\n",
    "    target1 = (11-0.5*i,18-i)\n",
    "    target2 = (11+0.5*i,18-i)\n",
    "    special[\"partA\"+str(i)] = LineString([(11,18-i), target1 ]).buffer(0.2)\n",
    "    special[\"partB\"+str(i)] = LineString([(11,18-i), target2 ]).buffer(0.2)\n",
    "    if i % 2 == 0:\n",
    "        special[\"candA\"+str(i)] = LineString([target1, (target1[0], target1[1]+1.5)]).buffer(0.05)\n",
    "        special[\"candB\"+str(i)] = LineString([target2, (target2[0], target2[1]+1.5)]).buffer(0.05)"
   ]
  },
  {
   "cell_type": "code",
   "execution_count": null,
   "metadata": {
    "scrolled": true,
    "tags": []
   },
   "outputs": [],
   "source": [
    "drawScene(special)"
   ]
  },
  {
   "cell_type": "markdown",
   "metadata": {
    "tags": []
   },
   "source": [
    "Collision checking\n",
    "=================\n",
    "\n",
    "One advantage of using shapely is the ability to easily check geometric objects for **intersection** and **distance**.\n",
    "\n",
    "Point - Point\n",
    "---------------"
   ]
  },
  {
   "cell_type": "code",
   "execution_count": null,
   "metadata": {
    "tags": []
   },
   "outputs": [],
   "source": [
    "object1 = Point([15,5]).buffer(0.1)\n",
    "object2 = Point([10,5]).buffer(4.)\n",
    "\n",
    "print(object1.intersects(object2))\n",
    "print(object1.distance(object2))"
   ]
  },
  {
   "cell_type": "code",
   "execution_count": null,
   "metadata": {
    "collapsed": false,
    "jupyter": {
     "outputs_hidden": false
    }
   },
   "outputs": [],
   "source": [
    "scene = dict()\n",
    "scene[\"ob1\"] = object1\n",
    "scene[\"ob2\"] = object2"
   ]
  },
  {
   "cell_type": "code",
   "execution_count": null,
   "metadata": {
    "collapsed": false,
    "jupyter": {
     "outputs_hidden": false
    }
   },
   "outputs": [],
   "source": [
    "drawScene(scene, figsize=(3,3))"
   ]
  },
  {
   "cell_type": "markdown",
   "metadata": {},
   "source": [
    "Point-Line example\n",
    "-----------------------"
   ]
  },
  {
   "cell_type": "code",
   "execution_count": null,
   "metadata": {
    "collapsed": false,
    "jupyter": {
     "outputs_hidden": false
    }
   },
   "outputs": [],
   "source": [
    "lineScene = dict()\n",
    "lineScene[\"point\"] = Point([10,5]).buffer(1.0).buffer(1.0)\n",
    "lineScene[\"ob2\"] = LineString([[1,2],[10,10]]).buffer(.1)\n",
    "\n",
    "print(lineScene[\"point\"].intersects(lineScene[\"ob2\"]))\n",
    "print(lineScene[\"point\"].distance(lineScene[\"ob2\"]))\n"
   ]
  },
  {
   "cell_type": "code",
   "execution_count": null,
   "metadata": {
    "collapsed": false,
    "jupyter": {
     "outputs_hidden": false
    }
   },
   "outputs": [],
   "source": [
    "for key, obj in lineScene.items():\n",
    "    print(key)"
   ]
  },
  {
   "cell_type": "code",
   "execution_count": null,
   "metadata": {
    "collapsed": false,
    "jupyter": {
     "outputs_hidden": false
    }
   },
   "outputs": [],
   "source": [
    "drawScene(lineScene, figsize=(5,5))"
   ]
  },
  {
   "cell_type": "markdown",
   "metadata": {},
   "source": [
    "Definition of an CollisionChecker\n",
    "===================================\n",
    "\n",
    "Following a proposal for a collision checker based on Shapely."
   ]
  },
  {
   "cell_type": "code",
   "execution_count": null,
   "metadata": {
    "collapsed": false,
    "jupyter": {
     "outputs_hidden": false
    }
   },
   "outputs": [],
   "source": [
    "class CollisionChecker(object):\n",
    "\n",
    "    def __init__(self, scene, limits = [[0.0,22.0],[0.0,22.0]], statistic = None):\n",
    "        self.scene = scene\n",
    "        self.limits = limits\n",
    "        \n",
    "    def getDim(self):\n",
    "        \"\"\" Return dimension of Environment (Shapely should currently always be 2)\"\"\"\n",
    "        return 2\n",
    "    \n",
    "    def getEnvironmentLimits(self):\n",
    "        \"\"\" Return limits of Environment\"\"\"\n",
    "        return list(self.limits)\n",
    "\n",
    "    def pointInCollision(self, pos):\n",
    "        \"\"\" Return whether a configuration is\n",
    "        inCollision -> True\n",
    "        Free -> False \"\"\"\n",
    "        assert(len(pos)==self.getDim())\n",
    "        for key, value in self.scene.items():\n",
    "            if value.intersects(Point(pos[0],pos[1])):              \n",
    "                return True\n",
    "        return False\n",
    "\n",
    "    def lineInCollision(self, startPos, endPos):\n",
    "        \"\"\" Check whether a line from startPos to endPos is colliding\"\"\"\n",
    "        assert(len(startPos)==self.getDim())\n",
    "        assert(len(endPos)==self.getDim())\n",
    "       \n",
    "        for key, value in self.scene.items():\n",
    "            if value.intersects(LineString([(startPos[0],startPos[1]),(endPos[0],endPos[1])])):\n",
    "                return True\n",
    "        return False\n",
    "    \n",
    "    def drawObstacles(self, ax):\n",
    "        for key, value in self.scene.items():\n",
    "            plotting.plot_polygon(value, add_points=False, ax=ax)"
   ]
  },
  {
   "cell_type": "markdown",
   "metadata": {},
   "source": [
    "Testing and using the collision checker\n",
    "------------------------------------------"
   ]
  },
  {
   "cell_type": "code",
   "execution_count": null,
   "metadata": {},
   "outputs": [],
   "source": [
    "lineScene = dict()\n",
    "lineScene[\"point\"] = Point([10,5]).buffer(1.0).buffer(1.0)\n",
    "lineScene[\"ob2\"] = LineString([[1,2],[10,10]]).buffer(1.0)\n"
   ]
  },
  {
   "cell_type": "code",
   "execution_count": null,
   "metadata": {},
   "outputs": [],
   "source": [
    "cc = CollisionChecker(lineScene)"
   ]
  },
  {
   "cell_type": "markdown",
   "metadata": {},
   "source": [
    "As the drawing function is now part of the collision checker, the figure and draw area has to be defined beforehand."
   ]
  },
  {
   "cell_type": "code",
   "execution_count": null,
   "metadata": {
    "collapsed": false,
    "jupyter": {
     "outputs_hidden": false
    }
   },
   "outputs": [],
   "source": [
    "fig = plt.figure(figsize=(5,5))\n",
    "ax = fig.add_subplot(1,1,1)\n",
    "limits = cc.getEnvironmentLimits()\n",
    "ax.set_xlim(limits[0])\n",
    "ax.set_ylim(limits[1])\n",
    "\n",
    "cc.drawObstacles(ax)"
   ]
  },
  {
   "cell_type": "code",
   "execution_count": null,
   "metadata": {
    "collapsed": false,
    "jupyter": {
     "outputs_hidden": false
    }
   },
   "outputs": [],
   "source": [
    "print(cc.pointInCollision([10,10]))\n",
    "print(cc.pointInCollision([2,5]))"
   ]
  },
  {
   "cell_type": "code",
   "execution_count": null,
   "metadata": {
    "collapsed": false,
    "jupyter": {
     "outputs_hidden": false
    }
   },
   "outputs": [],
   "source": [
    "print(cc.lineInCollision([5,0],[5,10]))\n",
    "print(cc.lineInCollision([5,0],[10,0]))"
   ]
  },
  {
   "cell_type": "code",
   "execution_count": null,
   "metadata": {},
   "outputs": [],
   "source": [
    "<szenenName> = dict()\n",
    "<szenenName>[\"obs1\"] = Polygon([(0, 8), (11, 8),(11, 15), (0, 15)]).buffer(.5)\n",
    "<szenenName>[\"obs2\"] = Polygon([(13, 8), (24, 8),(24, 15), (13, 15)]).buffer(.5)\n",
    "description = \"Planer has to find a narrow passage with a significant extend.\"\n",
    "benchList.append(Benchmark(\"aName\", CollisionChecker(<szenenName>), [[4,21]], [[18,1]], description, 2))"
   ]
  },
  {
   "cell_type": "code",
   "execution_count": null,
   "metadata": {},
   "outputs": [],
   "source": [
    "import IPTestSuite as ts\n",
    "import matplotlib.pylab as plt"
   ]
  },
  {
   "cell_type": "code",
   "execution_count": null,
   "metadata": {},
   "outputs": [],
   "source": [
    "for i in ts.benchList:\n",
    "    fig = plt.figure(figsize=(5,5))\n",
    "    ax = fig.add_subplot(1,1,1)\n",
    "    limits = i.collisionChecker.getEnvironmentLimits()\n",
    "    ax.set_xlim(limits[0])\n",
    "    ax.set_ylim(limits[1])\n",
    "    i.collisionChecker.drawObstacles(ax)"
   ]
  }
 ],
 "metadata": {
  "kernelspec": {
   "display_name": "Python 3 (ipykernel)",
   "language": "python",
   "name": "python3"
  },
  "language_info": {
   "codemirror_mode": {
    "name": "ipython",
    "version": 3
   },
   "file_extension": ".py",
   "mimetype": "text/x-python",
   "name": "python",
   "nbconvert_exporter": "python",
   "pygments_lexer": "ipython3",
   "version": "3.13.2"
  }
 },
 "nbformat": 4,
 "nbformat_minor": 4
}
