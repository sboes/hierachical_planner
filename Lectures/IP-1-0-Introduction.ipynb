{
 "cells": [
  {
   "cell_type": "markdown",
   "metadata": {
    "tags": []
   },
   "source": [
    "Introduction\n",
    "============\n",
    "\n",
    "This worksheet contains links to ressources, which are the base for a series of notebooks regarding  \"Introduction to robot path planning\".\n",
    "\n",
    "Version | Author\n",
    "------------ | -------------\n",
    "0.2 | Björn Hein\n",
    "\n",
    "License is based on Creative Commons: Attribution-NonCommercial 4.0 International (CC BY-NC 4.0) (pls. check: http://creativecommons.org/licenses/by-nc/4.0/)\n",
    "\n",
    "Important links are:\n",
    "\n",
    "* Using the Jupyter - Notebook: http://jupyter.org: **Please also check the Help-Menu in the top menu**\n",
    "* General Info: http://www.python.org\n",
    "* NetworkX http://networkx.github.io/\n",
    "* NumPy and SciPy Guide http://docs.scipy.org/\n",
    "* Matplotlib gallery https://matplotlib.org/stable/\n"
   ]
  },
  {
   "cell_type": "markdown",
   "metadata": {},
   "source": [
    "Further reading\n",
    "----------------"
   ]
  },
  {
   "cell_type": "markdown",
   "metadata": {},
   "source": [
    "* Google: \"tutorial jupyter\"\n",
    "* Google: \"tutorial python\"\n",
    "* Google: \"tutorial matplotlib\"\n",
    "* Google: "
   ]
  },
  {
   "cell_type": "markdown",
   "metadata": {},
   "source": [
    "# Needed libraries"
   ]
  },
  {
   "cell_type": "code",
   "execution_count": null,
   "metadata": {
    "vscode": {
     "languageId": "plaintext"
    }
   },
   "outputs": [],
   "source": [
    "!pip install scipy\n",
    "!pip install pandas\n",
    "!pip install matplotlib\n",
    "!pip install shapely\n",
    "!pip install networkx"
   ]
  },
  {
   "cell_type": "markdown",
   "metadata": {},
   "source": []
  }
 ],
 "metadata": {
  "kernelspec": {
   "display_name": "Python 3 (ipykernel)",
   "language": "python",
   "name": "python3"
  },
  "language_info": {
   "codemirror_mode": {
    "name": "ipython",
    "version": 3
   },
   "file_extension": ".py",
   "mimetype": "text/x-python",
   "name": "python",
   "nbconvert_exporter": "python",
   "pygments_lexer": "ipython3",
   "version": "3.13.2"
  },
  "vscode": {
   "interpreter": {
    "hash": "e484190cac9fc70b941612548412ba3f8988f8c719892ae67e7bed54e0cc2c89"
   }
  }
 },
 "nbformat": 4,
 "nbformat_minor": 4
}
