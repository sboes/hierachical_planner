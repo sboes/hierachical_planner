{
 "cells": [
  {
   "cell_type": "markdown",
   "metadata": {},
   "source": [
    "PRM - Lazy Probabilistic Roadmap Planners (lazy-PRM)\n",
    "====================================================\n",
    "\n",
    "This code is part of the course \"Introduction to robot path planning\" (Author: Bjoern Hein).\n",
    "\n",
    "Version | Author\n",
    "------------ | -------------\n",
    "0.2 | Björn Hein\n",
    "\n",
    "\n",
    "This worksheet **explains the basic concepts of path planning using a lazy probablistic roadmap approach (lazy-PRM)** \n",
    "\n",
    "\n",
    "License is based on Creative Commons: Attribution-NonCommercial 4.0 International (CC BY-NC 4.0) (pls. check: http://creativecommons.org/licenses/by-nc/4.0/)\n",
    "\n",
    "**Attention**: This worksheet has an external dependency to the file \"InnoKonz2DEnv.py\". This file contains a simple 2D environment based on numpy arrays and an interface for the use as collision checking in the algorithms.\n",
    "\n",
    "Important links are:\n",
    "\n",
    "    General Info: http://www.python.org\n",
    "    Python tutorial http://www.python.org/doc/tut/\n",
    "    NetworkX http://networkx.github.io/\n",
    "    NumPy and SciPy Guide http://docs.scipy.org/\n",
    "    Matplotlib gallery http://matplotlib.sourceforge.net/gallery.html\n",
    "\n",
    "Remember that:\n",
    "\n",
    "    you have to press ctrl-return or shift-return, to execute the code in the code sections, only then the variables are \"generated\" and can be used\n",
    "    you can execute the whole notebook by Cell->runAll\n",
    "\n",
    "\n",
    "\n"
   ]
  },
  {
   "cell_type": "markdown",
   "metadata": {},
   "source": [
    "Pre-Info\n",
    "=======\n",
    "\n",
    "Before coming to the algorithm itself, a short info about the **zip** function, which is used to generate out of the path list a list of consecutive path segments:\n"
   ]
  },
  {
   "cell_type": "code",
   "execution_count": null,
   "metadata": {
    "collapsed": false,
    "jupyter": {
     "outputs_hidden": false
    }
   },
   "outputs": [],
   "source": [
    "examplePath = [0,1,2,3,4,5,6,7,8]\n",
    "examplePathSegements = zip(examplePath,examplePath[1:])\n",
    "print (\"Example of Path\",list(examplePath))\n",
    "print (\"Example of generated path segments\", list(examplePathSegements))\n"
   ]
  },
  {
   "cell_type": "markdown",
   "metadata": {},
   "source": [
    "Lazy-PRM \n",
    "========\n",
    "\n",
    "Following an example implementation of the Lazy-PRM as discussed in the lecture. The only kind of refinement step is a  uniform distribution of new configurations."
   ]
  },
  {
   "cell_type": "code",
   "execution_count": null,
   "metadata": {},
   "outputs": [],
   "source": [
    "from IPLazyPRM import LazyPRM\n",
    "from IPVISLazyPRM import lazyPRMVisualize\n",
    "import matplotlib.pylab as plt"
   ]
  },
  {
   "cell_type": "code",
   "execution_count": null,
   "metadata": {},
   "outputs": [],
   "source": [
    "import IPTestSuite as ts"
   ]
  },
  {
   "cell_type": "code",
   "execution_count": null,
   "metadata": {},
   "outputs": [],
   "source": [
    "lazyConfig = dict()\n",
    "lazyConfig[\"initialRoadmapSize\"] = 10 # number of nodes of first roadmap\n",
    "lazyConfig[\"updateRoadmapSize\"]  = 3 # number of nodes to add if there is no connection from start to end\n",
    "lazyConfig[\"kNearest\"] = 5 # number of nodes to connect to during setup\n",
    "lazyConfig[\"maxIterations\"] = 30 # number of nodes to connect to during setup\n",
    "\n",
    "for benchmark in ts.benchList:\n",
    "    try:\n",
    "        fig_local = plt.figure(figsize=(10,10))\n",
    "        ax = fig_local.add_subplot(1,1,1)\n",
    "        vis = LazyPRM(benchmark.collisionChecker)\n",
    "        solution = vis.planPath(benchmark.startList, benchmark.goalList, lazyConfig)\n",
    "        title = benchmark.name\n",
    "        if solution == []:\n",
    "            title += \" (No path found!)\"\n",
    "        title += \"\\n Assumed complexity level \" + str(benchmark.level)\n",
    "        ax.set_title(title)\n",
    "        lazyPRMVisualize(vis, solution, ax=ax, nodeSize=50)\n",
    "    except Exception as e:\n",
    "        print(\"ERROR: \",benchmark.name, e)"
   ]
  },
  {
   "cell_type": "markdown",
   "metadata": {},
   "source": [
    "Interactive Tests\n",
    "================="
   ]
  },
  {
   "cell_type": "code",
   "execution_count": null,
   "metadata": {},
   "outputs": [],
   "source": [
    "from ipywidgets import interact, interactive, fixed\n",
    "import ipywidgets as widgets\n",
    "from shapely.geometry import Point, Polygon, LineString\n",
    "import matplotlib.pylab as plt"
   ]
  },
  {
   "cell_type": "code",
   "execution_count": null,
   "metadata": {},
   "outputs": [],
   "source": [
    "import IPTestSuite as ts\n",
    "\n",
    "benchmark = ts.benchList[0]"
   ]
  },
  {
   "cell_type": "code",
   "execution_count": null,
   "metadata": {},
   "outputs": [],
   "source": [
    "@interact(initialRoadmapSize=(5, 1000), updateRoadmapSize=(20,100), kNearest=(3,10), maxIterations=(10,100), __manual=True)\n",
    "def test(initialRoadmapSize=6, updateRoadmapSize=30, kNearest=5, maxIterations=50):\n",
    "    mystart = [[1,20]]\n",
    "    myend = [[20,1]]\n",
    "    print(\"test\",initialRoadmapSize)\n",
    "    environment = benchmark.collisionChecker\n",
    "    lazy = LazyPRM(environment)\n",
    "    lazyConfig = dict()\n",
    "    lazyConfig[\"initialRoadmapSize\"] = initialRoadmapSize # number of nodes of first roadmap\n",
    "    lazyConfig[\"updateRoadmapSize\"]  = updateRoadmapSize # number of nodes to add if there is no connection from start to end\n",
    "    lazyConfig[\"kNearest\"] = 5 #kNearest number of nodes to connect to during setup\n",
    "    lazyConfig[\"maxIterations\"] = maxIterations # number of nodes to connect to during setup\n",
    "\n",
    "    #environment.resetCounter()\n",
    "    \n",
    "    solution = lazy.planPath(mystart, myend, lazyConfig)\n",
    "\n",
    "    fig_local = plt.figure(figsize=(10,10))\n",
    "    ax = fig_local.add_subplot(1,1,1)\n",
    "    lazyPRMVisualize(lazy, solution, ax=ax)\n",
    " "
   ]
  },
  {
   "cell_type": "code",
   "execution_count": null,
   "metadata": {},
   "outputs": [],
   "source": []
  }
 ],
 "metadata": {
  "anaconda-cloud": {},
  "kernelspec": {
   "display_name": "Python 3 (ipykernel)",
   "language": "python",
   "name": "python3"
  },
  "language_info": {
   "codemirror_mode": {
    "name": "ipython",
    "version": 3
   },
   "file_extension": ".py",
   "mimetype": "text/x-python",
   "name": "python",
   "nbconvert_exporter": "python",
   "pygments_lexer": "ipython3",
   "version": "3.13.2"
  }
 },
 "nbformat": 4,
 "nbformat_minor": 4
}
