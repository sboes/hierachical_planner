{
 "cells": [
  {
   "cell_type": "markdown",
   "metadata": {},
   "source": [
    "Probabilistic Roadmap Planners (PRM)\n",
    "====================================\n",
    "\n",
    "**Topic**: Introduction to PRM planners\n",
    "\n",
    "Version | Author\n",
    "------------ | -------------\n",
    "0.2 | Björn Hein\n",
    "\n",
    "\n",
    "This worksheet **shows an example for a basic probabilistic roadmap planner (PRM)** \n",
    "\n",
    "\n",
    "License is based on Creative Commons: Attribution-NonCommercial 4.0 International (CC BY-NC 4.0) (pls. check: http://creativecommons.org/licenses/by-nc/4.0/)\n",
    "\n",
    "This work-sheet should include all necessary incredience to implement different PRM algorithm for path planning applications in Python.\n",
    "\n",
    "**Attention**: This worksheet has external dependencies \n",
    "\n",
    "Important links are:\n",
    "\n",
    "    General Info: http://www.python.org\n",
    "    Python tutorial http://www.python.org/doc/tut/\n",
    "    NetworkX http://networkx.github.io/\n",
    "    NumPy and SciPy Guide http://docs.scipy.org/\n",
    "    Matplotlib gallery http://matplotlib.sourceforge.net/gallery.html\n",
    "\n",
    "Remember that:\n",
    "\n",
    "    you have to press ctrl-return or shift-return, to execute the code in the code sections, only then the variables are \"generated\" and can be used\n",
    "    you can execute the whole notebook by Cell->runAll\n",
    "\n",
    "\n",
    "\n"
   ]
  },
  {
   "cell_type": "markdown",
   "metadata": {},
   "source": [
    "\n",
    "Setting up a basic PRM-Algorithm\n",
    "===============================\n",
    "\n",
    "Needed functionality\n",
    "--------------------\n",
    "\n",
    "* Random position generator (Sampling strategy)\n",
    "* Computation of **nearest neighbours** for a given node\n",
    "* Test of connected components\n",
    "* Collision test (point and **line**): Please take care, we also need a **line test**.\n",
    "\n",
    "Please check notebook IP-5-0-PRM_Basics.ipynb for information and explanation about these topics\n"
   ]
  },
  {
   "cell_type": "markdown",
   "metadata": {},
   "source": [
    "PRM Basic\n",
    "===========\n",
    "\n",
    "Following a simplified version of the classical PRM:\n",
    "\n",
    "* no sophisticated way of searching nearest neighbours (just brute-force) AND don't care about the order\n",
    "* no sophisticated way to detect complicated areas\n"
   ]
  },
  {
   "cell_type": "markdown",
   "metadata": {},
   "source": [
    "Definition of a base class for PRMs\n",
    "======================================\n",
    "\n",
    "see file IPPlanerBase.py:\n",
    "\n",
    "```\n",
    "from IPPlanerBase import PlanerBase\n",
    "class PRMBase(PlanerBase):\n",
    "    \n",
    "    def __init__(self,_collChecker):\n",
    "        super(PRMBase,self).__init__(_collChecker)\n",
    "\n",
    "    def _getRandomPosition(self):\n",
    "        limits = self.collChecker.getWorldLimits()        \n",
    "        pos = [random.uniform(limit[0],limit[1]) for limit in limits]\n",
    "        return pos\n",
    "    \n",
    "    def _getRandomFreePosition(self):\n",
    "        pos = self._getRandomPosition()\n",
    "        while self.collChecker.isInCollision(pos):\n",
    "            pos = self._getRandomPosition()\n",
    "        return pos\n",
    "```"
   ]
  },
  {
   "cell_type": "markdown",
   "metadata": {},
   "source": [
    "Based on the base class mentioned before, the PRM algorithm can be implemented in the following way:"
   ]
  },
  {
   "cell_type": "code",
   "metadata": {
    "collapsed": false,
    "jupyter": {
     "outputs_hidden": false
    },
    "ExecuteTime": {
     "end_time": "2025-07-22T23:08:13.303005Z",
     "start_time": "2025-07-22T23:08:13.295561Z"
    }
   },
   "source": [
    "import IPPRMBase\n",
    "import networkx as nx\n",
    "import random\n",
    "import numpy as np\n",
    "import math\n",
    "\n",
    "# reduce coding effort by using function provided by scipy\n",
    "from scipy.spatial.distance import euclidean, cityblock\n",
    "\n",
    "class BasicPRM(IPPRMBase.PRMBase):\n",
    "\n",
    "    def __init__(self, _collChecker):\n",
    "        super(BasicPRM, self).__init__(_collChecker)\n",
    "        self.graph = nx.Graph()\n",
    "\n",
    "    \n",
    "    def _inSameConnectedComponent(self, node1, node2):\n",
    "        \"\"\" Check whether to nodes are part of the same connected component using\n",
    "            functionality from NetworkX\n",
    "        \"\"\"\n",
    "        for connectedComponent in nx.connected_components(self.graph):\n",
    "            if (node1 in connectedComponent) & (node2 in connectedComponent):\n",
    "                return True\n",
    "\n",
    "        return False\n",
    "\n",
    "    \n",
    "    def _nearestNeighbours(self, pos, radius):\n",
    "        \"\"\" Brute Force method to find all nodes of a \n",
    "        graph near the given position **pos** with in the distance of\n",
    "        **radius** \"\"\"\n",
    "\n",
    "        result = list()\n",
    "        for node in self.graph.nodes(data=True):\n",
    "            if euclidean(node[1]['pos'],pos) <= radius:\n",
    "                result.append(node)\n",
    "\n",
    "        return result\n",
    "    \n",
    "    def _learnRoadmapNearestNeighbour(self, radius, numNodes):\n",
    "        \"\"\" Generate a roadmap by given number of nodes and radius, that should be tested for connection.\"\"\"\n",
    "        # nodeID is used for uniquely enumerating all nodes and as their name\n",
    "        nodeID = 1\n",
    "        while nodeID <= numNodes:\n",
    "        \n",
    "            # Generate a 'randomly chosen, free configuration'\n",
    "            newNodePos = self._getRandomFreePosition()\n",
    "            self.graph.add_node(nodeID, pos=newNodePos)\n",
    "            \n",
    "            # Find set of candidates to connect to sorted by distance\n",
    "            result = self._nearestNeighbours(newNodePos, radius)\n",
    "\n",
    "            # for all nearest neighbours check whether a connection is possible\n",
    "            for data in result:\n",
    "                if self._inSameConnectedComponent(nodeID,data[0]):\n",
    "                    break\n",
    "                \n",
    "                if not self._collisionChecker.lineInCollision(newNodePos,data[1]['pos']):\n",
    "                    self.graph.add_edge(nodeID,data[0])\n",
    "            \n",
    "            nodeID += 1\n",
    "            \n",
    "    def planPath(self, startList, goalList, config):\n",
    "        \"\"\"\n",
    "        \n",
    "        Args:\n",
    "            start (array): start position in planning space\n",
    "            goal (array) : goal position in planning space\n",
    "            config (dict): dictionary with the needed information about the configuration options\n",
    "            \n",
    "        Example:\n",
    "        \n",
    "            config[\"radius\"]   = 5.0\n",
    "            config[\"numNodes\"] = 300\n",
    "            config[\"useKDTree\"] = True\n",
    "            \n",
    "            startList = [[1,1]]\n",
    "            goalList  = [[10,1]]\n",
    "            \n",
    "            instance.planPath(startList,goalList,config)\n",
    "        \n",
    "        \"\"\"\n",
    "        # 0. reset\n",
    "        self.graph.clear()\n",
    "        \n",
    "        # 1. check start and goal whether collision free (s. BaseClass)\n",
    "        checkedStartList, checkedGoalList = self._checkStartGoal(startList,goalList)\n",
    "        \n",
    "        # 2. learn Roadmap\n",
    "        self._learnRoadmapNearestNeighbour(config[\"radius\"],config[\"numNodes\"])\n",
    "\n",
    "        # 3. find connection of start and goal to roadmap\n",
    "        # find nearest, collision-free connection between node on graph and start\n",
    "        result = self._nearestNeighbours(checkedStartList[0], config[\"radius\"])\n",
    "        for node in result:\n",
    "            if not self._collisionChecker.lineInCollision(checkedStartList[0],node[1]['pos']):\n",
    "                 self.graph.add_node(\"start\", pos=checkedStartList[0], color='lightgreen')\n",
    "                 self.graph.add_edge(\"start\", node[0])\n",
    "                 break\n",
    "\n",
    "        result = self._nearestNeighbours(checkedGoalList[0], config[\"radius\"])\n",
    "        for node in result:\n",
    "            if not self._collisionChecker.lineInCollision(checkedGoalList[0],node[1]['pos']):\n",
    "                 self.graph.add_node(\"goal\", pos=checkedGoalList[0], color='lightgreen')\n",
    "                 self.graph.add_edge(\"goal\", node[0])\n",
    "                 break\n",
    "\n",
    "        try:\n",
    "            path = nx.shortest_path(self.graph,\"start\",\"goal\")\n",
    "        except:\n",
    "            return []\n",
    "        return path"
   ],
   "outputs": [],
   "execution_count": 4
  },
  {
   "cell_type": "markdown",
   "metadata": {},
   "source": [
    "## Visualizing the information"
   ]
  },
  {
   "cell_type": "code",
   "metadata": {
    "ExecuteTime": {
     "end_time": "2025-07-22T23:08:13.318283Z",
     "start_time": "2025-07-22T23:08:13.313910Z"
    }
   },
   "source": [
    "import matplotlib.pyplot as plt\n",
    "def basicPRMVisualize(graph, collChecker, solution, nodeSize=100.0, ax=None):\n",
    "    # get a list of posiations of all nodes by returning the content of the attribute 'pos'\n",
    "    pos = nx.get_node_attributes(graph,'pos')\n",
    "    \n",
    "    # draw graph (nodes colorized by degree)\n",
    "    nx.draw_networkx_nodes(graph, pos,  cmap=plt.cm.Blues, ax = ax, node_size=nodeSize)\n",
    "    nx.draw_networkx_edges(graph,pos,\n",
    "                                ax = ax\n",
    "                                 )\n",
    "    Gcc = sorted(nx.connected_components(graph), key=len, reverse=True)\n",
    "    G0=graph.subgraph(Gcc[0])# = largest connected component\n",
    "\n",
    "    # how largest connected component\n",
    "    nx.draw_networkx_edges(G0,pos,\n",
    "                               edge_color='b',\n",
    "                               width=3.0, ax = ax\n",
    "                            )\n",
    "\n",
    "    collChecker.drawObstacles(ax)\n",
    "    \n",
    "    \n",
    "    # draw nodes based on solution path\n",
    "    Gsp = nx.subgraph(graph,solution)\n",
    "    nx.draw_networkx_nodes(Gsp,pos,\n",
    "                            node_size=100,\n",
    "                             node_color='g',  ax = ax)\n",
    "        \n",
    "    # draw edges based on solution path\n",
    "    nx.draw_networkx_edges(Gsp,pos,alpha=0.8,edge_color='g',width=10,  ax = ax)\n",
    "        \n",
    "    # draw start and goal\n",
    "    if \"start\" in graph.nodes(): \n",
    "        nx.draw_networkx_nodes(graph,pos,nodelist=[\"start\"],\n",
    "                                   node_size=300,\n",
    "                                   node_color='#00dd00',  ax = ax)\n",
    "        nx.draw_networkx_labels(graph,pos,labels={\"start\": \"S\"},  ax = ax)\n",
    "\n",
    "\n",
    "    if \"goal\" in graph.nodes():\n",
    "        nx.draw_networkx_nodes(graph,pos,nodelist=[\"goal\"],\n",
    "                                   node_size=300,\n",
    "                                   node_color='#DD0000',  ax = ax)\n",
    "        nx.draw_networkx_labels(graph,pos,labels={\"goal\": \"G\"},  ax = ax)\n"
   ],
   "outputs": [],
   "execution_count": 5
  },
  {
   "cell_type": "markdown",
   "metadata": {},
   "source": [
    "Simple testing of the algorithm \n",
    "=================================="
   ]
  },
  {
   "cell_type": "code",
   "metadata": {
    "collapsed": false,
    "jupyter": {
     "outputs_hidden": false
    },
    "ExecuteTime": {
     "end_time": "2025-07-22T23:08:13.393809Z",
     "start_time": "2025-07-22T23:08:13.335300Z"
    }
   },
   "source": [
    "from shapely.geometry import Point, Polygon, LineString\n",
    "from IPEnvironment import CollisionChecker\n",
    "\n",
    "# Definition of a testing environment\n",
    "trapField = dict()\n",
    "trapField[\"obs1\"] =   LineString([(6, 18), (6, 8), (16, 8), (16,18)]).buffer(1.0)\n",
    "\n",
    "environment = CollisionChecker(trapField)\n",
    "\n",
    "basicPRM = BasicPRM(environment)\n",
    "basicConfig = dict()\n",
    "basicConfig[\"radius\"] = 2\n",
    "basicConfig[\"numNodes\"] = 1000\n",
    "\n",
    "start = [[10,10]]\n",
    "goal  = [[10,1]]\n",
    "\n",
    "solution = basicPRM.planPath(start, goal, basicConfig)\n",
    "print (solution)\n"
   ],
   "outputs": [
    {
     "ename": "AttributeError",
     "evalue": "'CollisionChecker' object has no attribute 'getDim'",
     "output_type": "error",
     "traceback": [
      "\u001B[31m---------------------------------------------------------------------------\u001B[39m",
      "\u001B[31mAttributeError\u001B[39m                            Traceback (most recent call last)",
      "\u001B[36mCell\u001B[39m\u001B[36m \u001B[39m\u001B[32mIn[6]\u001B[39m\u001B[32m, line 18\u001B[39m\n\u001B[32m     15\u001B[39m start = [[\u001B[32m10\u001B[39m,\u001B[32m10\u001B[39m]]\n\u001B[32m     16\u001B[39m goal  = [[\u001B[32m10\u001B[39m,\u001B[32m1\u001B[39m]]\n\u001B[32m---> \u001B[39m\u001B[32m18\u001B[39m solution = \u001B[43mbasicPRM\u001B[49m\u001B[43m.\u001B[49m\u001B[43mplanPath\u001B[49m\u001B[43m(\u001B[49m\u001B[43mstart\u001B[49m\u001B[43m,\u001B[49m\u001B[43m \u001B[49m\u001B[43mgoal\u001B[49m\u001B[43m,\u001B[49m\u001B[43m \u001B[49m\u001B[43mbasicConfig\u001B[49m\u001B[43m)\u001B[49m\n\u001B[32m     19\u001B[39m \u001B[38;5;28mprint\u001B[39m (solution)\n",
      "\u001B[36mCell\u001B[39m\u001B[36m \u001B[39m\u001B[32mIn[4]\u001B[39m\u001B[32m, line 87\u001B[39m, in \u001B[36mBasicPRM.planPath\u001B[39m\u001B[34m(self, startList, goalList, config)\u001B[39m\n\u001B[32m     84\u001B[39m \u001B[38;5;28mself\u001B[39m.graph.clear()\n\u001B[32m     86\u001B[39m \u001B[38;5;66;03m# 1. check start and goal whether collision free (s. BaseClass)\u001B[39;00m\n\u001B[32m---> \u001B[39m\u001B[32m87\u001B[39m checkedStartList, checkedGoalList = \u001B[38;5;28;43mself\u001B[39;49m\u001B[43m.\u001B[49m\u001B[43m_checkStartGoal\u001B[49m\u001B[43m(\u001B[49m\u001B[43mstartList\u001B[49m\u001B[43m,\u001B[49m\u001B[43mgoalList\u001B[49m\u001B[43m)\u001B[49m\n\u001B[32m     89\u001B[39m \u001B[38;5;66;03m# 2. learn Roadmap\u001B[39;00m\n\u001B[32m     90\u001B[39m \u001B[38;5;28mself\u001B[39m._learnRoadmapNearestNeighbour(config[\u001B[33m\"\u001B[39m\u001B[33mradius\u001B[39m\u001B[33m\"\u001B[39m],config[\u001B[33m\"\u001B[39m\u001B[33mnumNodes\u001B[39m\u001B[33m\"\u001B[39m])\n",
      "\u001B[36mFile \u001B[39m\u001B[32m~\\PycharmProjects\\pythonProject\\Project_task_hierarchical_planner\\Lectures\\IPPlanerBase.py:33\u001B[39m, in \u001B[36mPlanerBase._checkStartGoal\u001B[39m\u001B[34m(self, startList, goalList)\u001B[39m\n\u001B[32m     31\u001B[39m newStartList = \u001B[38;5;28mlist\u001B[39m()\n\u001B[32m     32\u001B[39m \u001B[38;5;28;01mfor\u001B[39;00m start \u001B[38;5;129;01min\u001B[39;00m startList:\n\u001B[32m---> \u001B[39m\u001B[32m33\u001B[39m     \u001B[38;5;28;01mif\u001B[39;00m (\u001B[38;5;28mlen\u001B[39m(start) != \u001B[38;5;28;43mself\u001B[39;49m\u001B[43m.\u001B[49m\u001B[43m_collisionChecker\u001B[49m\u001B[43m.\u001B[49m\u001B[43mgetDim\u001B[49m()):\n\u001B[32m     34\u001B[39m         \u001B[38;5;28;01mcontinue\u001B[39;00m\n\u001B[32m     35\u001B[39m     \u001B[38;5;28;01mif\u001B[39;00m \u001B[38;5;28mself\u001B[39m._collisionChecker.pointInCollision(start):\n",
      "\u001B[31mAttributeError\u001B[39m: 'CollisionChecker' object has no attribute 'getDim'"
     ]
    }
   ],
   "execution_count": 6
  },
  {
   "cell_type": "code",
   "execution_count": null,
   "metadata": {
    "collapsed": false,
    "jupyter": {
     "outputs_hidden": false
    }
   },
   "outputs": [],
   "source": [
    "fig_local = plt.figure(figsize=(10,10))\n",
    "ax = fig_local.add_subplot(1,1,1)\n",
    "basicPRMVisualize(basicPRM.graph,environment,solution,ax=ax)"
   ]
  },
  {
   "cell_type": "markdown",
   "metadata": {},
   "source": [
    "## Interactive testing"
   ]
  },
  {
   "cell_type": "code",
   "execution_count": null,
   "metadata": {},
   "outputs": [],
   "source": [
    "from ipywidgets import interact, interactive, fixed\n",
    "import ipywidgets as widgets"
   ]
  },
  {
   "cell_type": "code",
   "execution_count": null,
   "metadata": {
    "collapsed": false,
    "jupyter": {
     "outputs_hidden": false
    }
   },
   "outputs": [],
   "source": [
    "@interact(radius=(0.5, 10.0), numNodes=(10,1000,10), __manual=True)\n",
    "def test(radius=5.0, numNodes=200):\n",
    "\n",
    "    trapField = dict()\n",
    "    trapField[\"obs1\"] =   LineString([(6, 18), (6, 8), (16, 8), (16,18)]).buffer(1.0)\n",
    "\n",
    "    environment = CollisionChecker(trapField)\n",
    "\n",
    "    basicPRM = BasicPRM(environment)\n",
    "    basicConfig = dict()\n",
    "    basicConfig[\"radius\"] = radius\n",
    "    basicConfig[\"numNodes\"] = numNodes\n",
    "\n",
    "    start = [[10,10]]\n",
    "    goal  = [[10,1]]\n",
    "\n",
    "    solution = basicPRM.planPath(start, goal, basicConfig)\n",
    "    fig_local = plt.figure(figsize=(10,10))\n",
    "    ax = fig_local.add_subplot(1,1,1)\n",
    "    basicPRMVisualize(basicPRM.graph,environment,solution,ax=ax)"
   ]
  },
  {
   "cell_type": "markdown",
   "metadata": {},
   "source": [
    "# \"Capsulate\" Visualization"
   ]
  },
  {
   "cell_type": "markdown",
   "metadata": {},
   "source": [
    "It makes sense to put the visualization code in an extra module. Proposal to align the name of the module with the filename of the corresponding planning algorithm:\n",
    "\n",
    "``` IPPRMBase.py --> IPVISBasicPRM.py ```\n",
    "\n",
    "This allows something like:"
   ]
  },
  {
   "cell_type": "code",
   "execution_count": null,
   "metadata": {},
   "outputs": [],
   "source": [
    "from IPBasicPRM import BasicPRM\n",
    "from IPVISBasicPRM import basicPRMVisualize\n",
    "from IPEnvironment import CollisionChecker\n",
    "import matplotlib.pylab as plt\n",
    "\n",
    "# Definition of a testing environment\n",
    "trapField = dict()\n",
    "trapField[\"obs1\"] = LineString([(6, 18), (6, 8), (16, 8), (16,18)]).buffer(1.0)\n",
    "\n",
    "environment = CollisionChecker(trapField)\n",
    "\n",
    "basicPRM = BasicPRM(environment)\n",
    "basicConfig = dict()\n",
    "basicConfig[\"radius\"] = 3\n",
    "basicConfig[\"numNodes\"] = 300\n",
    "\n",
    "start = [[10,10]]\n",
    "goal  = [[10,1]]\n",
    "\n",
    "solution = basicPRM.planPath(start, goal, basicConfig)\n",
    "\n",
    "fig_local = plt.figure(figsize=(10,10))\n",
    "ax = fig_local.add_subplot(1,1,1)\n",
    "basicPRMVisualize(basicPRM,solution,ax=ax)\n"
   ]
  },
  {
   "cell_type": "markdown",
   "metadata": {},
   "source": [
    "# Benchmarking"
   ]
  },
  {
   "cell_type": "code",
   "execution_count": null,
   "metadata": {},
   "outputs": [],
   "source": [
    "import importlib\n",
    "from shapely.geometry import Point, Polygon, LineString"
   ]
  },
  {
   "cell_type": "code",
   "execution_count": null,
   "metadata": {},
   "outputs": [],
   "source": [
    "import IPTestSuite\n"
   ]
  },
  {
   "cell_type": "code",
   "execution_count": null,
   "metadata": {},
   "outputs": [],
   "source": [
    "benchList = IPTestSuite.benchList[0:3] # only use first three benchmarks"
   ]
  },
  {
   "cell_type": "code",
   "execution_count": null,
   "metadata": {},
   "outputs": [],
   "source": [
    "for benchmark in benchList:\n",
    "    print(benchmark.name)"
   ]
  },
  {
   "cell_type": "code",
   "execution_count": null,
   "metadata": {
    "collapsed": false,
    "jupyter": {
     "outputs_hidden": false
    }
   },
   "outputs": [],
   "source": [
    "from IPBasicPRM import BasicPRM\n",
    "from IPVISBasicPRM import basicPRMVisualize\n",
    "from IPEnvironment import CollisionChecker\n",
    "import matplotlib.pylab as plt\n",
    "\n",
    "basicConfig = dict()\n",
    "basicConfig[\"radius\"] = 5\n",
    "basicConfig[\"numNodes\"] = 200\n",
    "\n",
    "for bench in benchList:\n",
    "    try:\n",
    "        fig_local = plt.figure(figsize=(10,10))\n",
    "        ax = fig_local.add_subplot(1,1,1)\n",
    "        basicPRM = BasicPRM(bench.collisionChecker)\n",
    "        print(\"Planning\", bench.name)\n",
    "        solution = basicPRM.planPath(bench.startList, bench.goalList, basicConfig)\n",
    "        title = bench.name\n",
    "        if solution == []:\n",
    "            title += \" (No path found!)\"\n",
    "        title += \"\\n Assumed complexity level \" + str(bench.level)\n",
    "        ax.set_title(title)\n",
    "        basicPRMVisualize(basicPRM,solution,ax=ax)\n",
    "    except Exception as e:\n",
    "        print(\"ERROR: \",bench.name, e)\n",
    "        \n",
    "    "
   ]
  },
  {
   "cell_type": "code",
   "execution_count": null,
   "metadata": {},
   "outputs": [],
   "source": []
  }
 ],
 "metadata": {
  "kernelspec": {
   "display_name": "Python 3 (ipykernel)",
   "language": "python",
   "name": "python3"
  },
  "language_info": {
   "codemirror_mode": {
    "name": "ipython",
    "version": 3
   },
   "file_extension": ".py",
   "mimetype": "text/x-python",
   "name": "python",
   "nbconvert_exporter": "python",
   "pygments_lexer": "ipython3",
   "version": "3.13.2"
  },
  "widgets": {
   "state": {
    "4d81e43f3b7446bab97df9a6d86f5cab": {
     "views": [
      {
       "cell_index": 17
      }
     ]
    }
   },
   "version": "1.2.0"
  }
 },
 "nbformat": 4,
 "nbformat_minor": 4
}
